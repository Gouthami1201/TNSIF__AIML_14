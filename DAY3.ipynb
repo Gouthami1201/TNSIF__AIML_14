{
 "cells": [
  {
   "cell_type": "code",
   "execution_count": 4,
   "id": "84b3d733-c1ff-4dd7-8c24-fac597cbeb40",
   "metadata": {},
   "outputs": [
    {
     "name": "stdout",
     "output_type": "stream",
     "text": [
      "Enter 10 elements\n"
     ]
    },
    {
     "name": "stdin",
     "output_type": "stream",
     "text": [
      "enterelement0: 2\n",
      "enterelement1: 5\n",
      "enterelement2: 7\n",
      "enterelement3: 2\n",
      "enterelement4: 8\n",
      "enterelement5: 0\n",
      "enterelement6: 26\n",
      "enterelement7: 4\n",
      "enterelement8: 8\n",
      "enterelement9: 2\n"
     ]
    },
    {
     "name": "stdout",
     "output_type": "stream",
     "text": [
      "List [2, 5, 7, 2, 8, 0, 26, 4, 8, 2]\n",
      "List after removing [2, 2, 8, 0, 26, 4, 8, 2]\n"
     ]
    }
   ],
   "source": [
    "# Accept a list with numbers having 10 elements. Remove the third element and all odd elements.\n",
    "l1=[]\n",
    "l2=[]\n",
    "print(\"Enter 10 elements\")\n",
    "for i in range(10):\n",
    "    s='enterelement'+str(i)+':'\n",
    "    ele=int(input(s))\n",
    "    l1=l1+[ele]\n",
    "print(\"List\",l1)\n",
    "l1.pop(2)\n",
    "for i in range(9):\n",
    "    if l1[i]%2==0:\n",
    "        l2.append(l1[i])\n",
    "print(\"List after removing\",l2)\n"
   ]
  },
  {
   "cell_type": "code",
   "execution_count": 5,
   "id": "a8d5bd14-e6fe-4efb-910d-5d50beca9be1",
   "metadata": {},
   "outputs": [
    {
     "data": {
      "text/plain": [
       "[20, 21, 22, 23, 24]"
      ]
     },
     "execution_count": 5,
     "metadata": {},
     "output_type": "execute_result"
    }
   ],
   "source": [
    "li=list(range(20,25))\n",
    "li"
   ]
  },
  {
   "cell_type": "code",
   "execution_count": 6,
   "id": "12931705-89c3-4656-883b-ed682d89bdfb",
   "metadata": {},
   "outputs": [
    {
     "data": {
      "text/plain": [
       "[24, 23, 22, 21, 20]"
      ]
     },
     "execution_count": 6,
     "metadata": {},
     "output_type": "execute_result"
    }
   ],
   "source": [
    "li.reverse()\n",
    "li"
   ]
  },
  {
   "cell_type": "code",
   "execution_count": 7,
   "id": "832dd348-47e4-49cc-95b3-af2a01780a8b",
   "metadata": {},
   "outputs": [
    {
     "data": {
      "text/plain": [
       "[34, 32, 56, 78, 12]"
      ]
     },
     "execution_count": 7,
     "metadata": {},
     "output_type": "execute_result"
    }
   ],
   "source": [
    "li1=[34,32,56,78,12]\n",
    "li1"
   ]
  },
  {
   "cell_type": "code",
   "execution_count": 8,
   "id": "78dc7721-19dd-4c42-bf2d-9364ff9463f2",
   "metadata": {},
   "outputs": [
    {
     "data": {
      "text/plain": [
       "[12, 32, 34, 56, 78]"
      ]
     },
     "execution_count": 8,
     "metadata": {},
     "output_type": "execute_result"
    }
   ],
   "source": [
    "li1.sort()\n",
    "li1"
   ]
  },
  {
   "cell_type": "code",
   "execution_count": 9,
   "id": "004de95b-c7a6-47e5-95e6-e15ee0fb6fba",
   "metadata": {},
   "outputs": [
    {
     "data": {
      "text/plain": [
       "['p', 'd', 'a', 'f', 'a', 'n']"
      ]
     },
     "execution_count": 9,
     "metadata": {},
     "output_type": "execute_result"
    }
   ],
   "source": [
    "k=['a','p','d','a','f','a','n']\n",
    "k.remove('a')  #only first occurance of 'a' is removed\n",
    "k"
   ]
  },
  {
   "cell_type": "code",
   "execution_count": 10,
   "id": "0d84c1ed-14be-4802-b4f3-429ea3b596c6",
   "metadata": {},
   "outputs": [
    {
     "data": {
      "text/plain": [
       "['n', 'a', 'f', 'a', 'd', 'p']"
      ]
     },
     "execution_count": 10,
     "metadata": {},
     "output_type": "execute_result"
    }
   ],
   "source": [
    "k.reverse()\n",
    "k"
   ]
  },
  {
   "cell_type": "code",
   "execution_count": 11,
   "id": "ccc60f59-16df-4615-b6b6-e16eec81e6ad",
   "metadata": {},
   "outputs": [
    {
     "data": {
      "text/plain": [
       "['n', 'f', 'a', 'd', 'p']"
      ]
     },
     "execution_count": 11,
     "metadata": {},
     "output_type": "execute_result"
    }
   ],
   "source": [
    "k.remove('a')\n",
    "k"
   ]
  },
  {
   "cell_type": "code",
   "execution_count": 12,
   "id": "292e84ea-185b-4152-9411-e67658cc244e",
   "metadata": {},
   "outputs": [
    {
     "data": {
      "text/plain": [
       "{1: 'one', 2: 'two', 3: 'three'}"
      ]
     },
     "execution_count": 12,
     "metadata": {},
     "output_type": "execute_result"
    }
   ],
   "source": [
    "#Dictionaries\n",
    "a={1:\"one\",2:\"two\",3:\"three\"}\n",
    "a"
   ]
  },
  {
   "cell_type": "code",
   "execution_count": 13,
   "id": "b52f8717-2861-4f70-b16a-ddb26883f892",
   "metadata": {},
   "outputs": [
    {
     "data": {
      "text/plain": [
       "dict_values(['one', 'two', 'three'])"
      ]
     },
     "execution_count": 13,
     "metadata": {},
     "output_type": "execute_result"
    }
   ],
   "source": [
    "a1=a.values()\n",
    "a1"
   ]
  },
  {
   "cell_type": "code",
   "execution_count": null,
   "id": "41b21537-8747-45b7-b9b7-8b1007693043",
   "metadata": {},
   "outputs": [],
   "source": []
  }
 ],
 "metadata": {
  "kernelspec": {
   "display_name": "Python 3 (ipykernel)",
   "language": "python",
   "name": "python3"
  },
  "language_info": {
   "codemirror_mode": {
    "name": "ipython",
    "version": 3
   },
   "file_extension": ".py",
   "mimetype": "text/x-python",
   "name": "python",
   "nbconvert_exporter": "python",
   "pygments_lexer": "ipython3",
   "version": "3.12.7"
  }
 },
 "nbformat": 4,
 "nbformat_minor": 5
}
