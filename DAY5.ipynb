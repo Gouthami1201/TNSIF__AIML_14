{
 "cells": [
  {
   "cell_type": "code",
   "execution_count": 1,
   "id": "5503d1ac-63b7-4d9e-9199-10080c81c99e",
   "metadata": {},
   "outputs": [
    {
     "name": "stdin",
     "output_type": "stream",
     "text": [
      "Enter the number of employees:  3\n",
      "Enter salary of employee 1:  25000\n",
      "Enter salary of employee 2:  45000\n",
      "Enter salary of employee 3:  75000\n"
     ]
    },
    {
     "name": "stdout",
     "output_type": "stream",
     "text": [
      "Minimum salary: 25000\n",
      "Maximum salary: 75000\n"
     ]
    }
   ],
   "source": [
    "n = int(input(\"Enter the number of employees: \"))\n",
    "\n",
    "salaries = []\n",
    "for i in range(n):\n",
    "    salary = (input(f\"Enter salary of employee {i+1}: \"))\n",
    "    salaries.append(salary)\n",
    "    \n",
    "min_salary = min(salaries)\n",
    "max_salary = max(salaries)\n",
    "print(\"Minimum salary:\", min_salary)\n",
    "print(\"Maximum salary:\", max_salary)"
   ]
  },
  {
   "cell_type": "code",
   "execution_count": 2,
   "id": "dae5c6d8-34db-42cb-81fa-72f7f2f0f2fc",
   "metadata": {},
   "outputs": [
    {
     "name": "stdout",
     "output_type": "stream",
     "text": [
      "('PYTHON',)\n",
      "1\n",
      "4\n",
      "(10, 20, 30, 10, 20, 30)\n"
     ]
    }
   ],
   "source": [
    "t=tuple()\n",
    "t=t+(\"PYTHON\",)\n",
    "print(t)\n",
    "print(len(t))\n",
    "tl=(10,20,30)\n",
    "t2=tl+t\n",
    "print(len(t2))\n",
    "t3=tl*2\n",
    "print(t3)"
   ]
  },
  {
   "cell_type": "code",
   "execution_count": 3,
   "id": "eee02221-fb26-4f66-b248-e841d95a59ad",
   "metadata": {},
   "outputs": [
    {
     "name": "stdin",
     "output_type": "stream",
     "text": [
      "Enter number of employees:  2\n",
      "Enter employee name:  akhila\n",
      "Enter employee number:  894975386\n",
      "Enter employee name:  vuchhi\n",
      "Enter employee number:  8379809089\n"
     ]
    },
    {
     "name": "stdout",
     "output_type": "stream",
     "text": [
      "\n",
      "Employee Dictionary:\n",
      "{'akhila': '894975386', 'vuchhi': '8379809089'}\n"
     ]
    }
   ],
   "source": [
    "employees = {}\n",
    "n = int(input(\"Enter number of employees: \"))\n",
    "for i in range(n):\n",
    "    name = input(\"Enter employee name: \")\n",
    "    number = input(\"Enter employee number: \")\n",
    "    employees[name] = number\n",
    "\n",
    "print(\"\\nEmployee Dictionary:\")\n",
    "print(employees)\n"
   ]
  },
  {
   "cell_type": "code",
   "execution_count": 4,
   "id": "fedc3c1a-b222-4f75-92a4-f3a2c3e07be4",
   "metadata": {},
   "outputs": [
    {
     "name": "stdout",
     "output_type": "stream",
     "text": [
      "('ram', 1, 1223)\n"
     ]
    }
   ],
   "source": [
    "tup1=('ram',1,1223)\n",
    "print(tup1) "
   ]
  },
  {
   "cell_type": "code",
   "execution_count": 5,
   "id": "22bce08c-6805-4650-9a8d-2b3399cd2b1f",
   "metadata": {},
   "outputs": [
    {
     "name": "stdout",
     "output_type": "stream",
     "text": [
      "('ram',)\n",
      "<class 'tuple'>\n"
     ]
    }
   ],
   "source": [
    "tup1=('ram',)\n",
    "print(tup1)\n",
    "print(type(tup1))"
   ]
  },
  {
   "cell_type": "code",
   "execution_count": 6,
   "id": "f2da8644-da72-434e-9453-2218c0e34111",
   "metadata": {},
   "outputs": [
    {
     "name": "stdout",
     "output_type": "stream",
     "text": [
      "<class 'str'>\n"
     ]
    }
   ],
   "source": [
    "tup=('ram')\n",
    "print(type(tup))"
   ]
  },
  {
   "cell_type": "code",
   "execution_count": null,
   "id": "e0b6dd84-7601-4cde-aee9-2c18e1f9777f",
   "metadata": {},
   "outputs": [],
   "source": []
  }
 ],
 "metadata": {
  "kernelspec": {
   "display_name": "Python 3 (ipykernel)",
   "language": "python",
   "name": "python3"
  },
  "language_info": {
   "codemirror_mode": {
    "name": "ipython",
    "version": 3
   },
   "file_extension": ".py",
   "mimetype": "text/x-python",
   "name": "python",
   "nbconvert_exporter": "python",
   "pygments_lexer": "ipython3",
   "version": "3.12.7"
  }
 },
 "nbformat": 4,
 "nbformat_minor": 5
}
