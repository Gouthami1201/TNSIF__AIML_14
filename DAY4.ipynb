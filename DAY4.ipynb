{
 "cells": [
  {
   "cell_type": "code",
   "execution_count": 1,
   "id": "64842cf0-7b81-4ff0-9773-d3d638947554",
   "metadata": {},
   "outputs": [
    {
     "name": "stdout",
     "output_type": "stream",
     "text": [
      "{'Harry': 8796543908, 'Sima': 9888765490, 'Rita': 6779765312}\n"
     ]
    },
    {
     "name": "stdin",
     "output_type": "stream",
     "text": [
      "Enter the name to be modified Harry\n",
      "Enter modified number 9867565656\n"
     ]
    },
    {
     "name": "stdout",
     "output_type": "stream",
     "text": [
      "Modified successfully\n",
      "{'Harry': '9867565656', 'Sima': 9888765490, 'Rita': 6779765312}\n"
     ]
    }
   ],
   "source": [
    "#update existing phonenumber dictionary\n",
    "phonebook={\"Harry\":8796543908,\"Sima\":9888765490,\"Rita\":6779765312}\n",
    "print(phonebook)\n",
    "name=input(\"Enter the name to be modified\")\n",
    "if name in phonebook:\n",
    "    newnum=input(\"Enter modified number\")\n",
    "    phonebook[name] = newnum\n",
    "    print(\"Modified successfully\")\n",
    "    print(phonebook)\n",
    "else:\n",
    "    print(name, \"was not found.\")"
   ]
  },
  {
   "cell_type": "code",
   "execution_count": 2,
   "id": "7afa2de1-be48-49b3-8a07-869ae1798e0f",
   "metadata": {},
   "outputs": [
    {
     "name": "stdout",
     "output_type": "stream",
     "text": [
      "{'Harry': 8796543908, 'Sima': 9888765490, 'Rita': 6779765312}\n",
      "{'Harry': 9807646889, 'Sima': 9888765490, 'Rita': 6779765312}\n",
      "{'Harry': 9807646889, 'Sima': 9888765490, 'Rita': 6779765312, 'Amir': 8976543210}\n"
     ]
    }
   ],
   "source": [
    "#Add Amir and his nuumber..Key value pair to be added\n",
    "phonebook={\"Harry\":8796543908,\"Sima\":9888765490,\"Rita\":6779765312}\n",
    "print(phonebook)\n",
    "phonebook[\"Harry\"]=9807646889\n",
    "print(phonebook)\n",
    "phonebook.update({\"Amir\":8976543210})\n",
    "print(phonebook)"
   ]
  },
  {
   "cell_type": "code",
   "execution_count": 3,
   "id": "952247a4-f809-4dc8-ad44-52cc210f8721",
   "metadata": {},
   "outputs": [
    {
     "name": "stdout",
     "output_type": "stream",
     "text": [
      "{'Harry': 8796543908, 'Sima': 9888765490, 'Rita': 6779765312}\n"
     ]
    },
    {
     "name": "stdin",
     "output_type": "stream",
     "text": [
      "Enter the name to be modified Harry\n"
     ]
    },
    {
     "name": "stdout",
     "output_type": "stream",
     "text": [
      "Deleted successfully\n",
      "{'Sima': 9888765490, 'Rita': 6779765312}\n"
     ]
    }
   ],
   "source": [
    "#Deleting Key value pair\n",
    "phonebook={\"Harry\":8796543908,\"Sima\":9888765490,\"Rita\":6779765312}\n",
    "print(phonebook)\n",
    "name=input(\"Enter the name to be modified\")\n",
    "if name in phonebook:\n",
    "    del phonebook[name]\n",
    "    print(\"Deleted successfully\")\n",
    "    print(phonebook)\n",
    "else:\n",
    "    print(name, \"was not found\")\n"
   ]
  },
  {
   "cell_type": "code",
   "execution_count": 4,
   "id": "1aa42fb3-eb07-42b5-9f3e-7aa23529dd08",
   "metadata": {},
   "outputs": [
    {
     "name": "stdout",
     "output_type": "stream",
     "text": [
      "{'Harry': 8796543908, 'Sima': 9888765490, 'Rita': 6779765312}\n"
     ]
    },
    {
     "ename": "NameError",
     "evalue": "name 'phonebook' is not defined",
     "output_type": "error",
     "traceback": [
      "\u001b[1;31m---------------------------------------------------------------------------\u001b[0m",
      "\u001b[1;31mNameError\u001b[0m                                 Traceback (most recent call last)",
      "Cell \u001b[1;32mIn[4], line 5\u001b[0m\n\u001b[0;32m      3\u001b[0m \u001b[38;5;28mprint\u001b[39m(phonebook)\n\u001b[0;32m      4\u001b[0m \u001b[38;5;28;01mdel\u001b[39;00m phonebook\n\u001b[1;32m----> 5\u001b[0m \u001b[38;5;28mprint\u001b[39m(phonebook)\n",
      "\u001b[1;31mNameError\u001b[0m: name 'phonebook' is not defined"
     ]
    }
   ],
   "source": [
    "#Trying to delete whole dictionary\n",
    "phonebook={\"Harry\":8796543908,\"Sima\":9888765490,\"Rita\":6779765312}\n",
    "print(phonebook)\n",
    "del phonebook\n",
    "print(phonebook)"
   ]
  },
  {
   "cell_type": "code",
   "execution_count": 5,
   "id": "b8654202-6214-409e-a6a8-fe955125e5c9",
   "metadata": {},
   "outputs": [
    {
     "name": "stdout",
     "output_type": "stream",
     "text": [
      "{'Harry': 8796543908, 'Sima': 9888765490, 'Rita': 6779765312}\n"
     ]
    }
   ],
   "source": [
    "phonebook={\"Harry\":8796543908,\"Sima\":9888765490,\"Rita\":6779765312}\n",
    "print(phonebook)"
   ]
  },
  {
   "cell_type": "code",
   "execution_count": 6,
   "id": "c7b25e2f-7853-4df4-b8ed-f24016f64249",
   "metadata": {},
   "outputs": [
    {
     "data": {
      "text/plain": [
       "3"
      ]
     },
     "execution_count": 6,
     "metadata": {},
     "output_type": "execute_result"
    }
   ],
   "source": [
    "len(phonebook)"
   ]
  },
  {
   "cell_type": "code",
   "execution_count": 7,
   "id": "5bd8c5e2-f1f6-499a-999a-315921767016",
   "metadata": {},
   "outputs": [
    {
     "data": {
      "text/plain": [
       "\"{'Harry': 8796543908, 'Sima': 9888765490, 'Rita': 6779765312}\""
      ]
     },
     "execution_count": 7,
     "metadata": {},
     "output_type": "execute_result"
    }
   ],
   "source": [
    "str(phonebook)"
   ]
  },
  {
   "cell_type": "code",
   "execution_count": 8,
   "id": "7ccf9ba9-b3d6-48aa-a431-33863277d8e8",
   "metadata": {},
   "outputs": [
    {
     "name": "stdout",
     "output_type": "stream",
     "text": [
      "{}\n"
     ]
    }
   ],
   "source": [
    "phonebook.clear()\n",
    "print(phonebook)"
   ]
  },
  {
   "cell_type": "code",
   "execution_count": 9,
   "id": "4ce481f5-8995-4c22-ab98-7641546a3060",
   "metadata": {},
   "outputs": [
    {
     "name": "stdout",
     "output_type": "stream",
     "text": [
      "{'Harry': 8796543908, 'Sima': 9888765490, 'Rita': 6779765312}\n"
     ]
    }
   ],
   "source": [
    "phonebook={\"Harry\":8796543908,\"Sima\":9888765490,\"Rita\":6779765312}\n",
    "print(phonebook)"
   ]
  },
  {
   "cell_type": "code",
   "execution_count": 10,
   "id": "05c43b23-ab5b-467f-b6ae-c47fc09d817f",
   "metadata": {},
   "outputs": [
    {
     "data": {
      "text/plain": [
       "dict_keys(['Harry', 'Sima', 'Rita'])"
      ]
     },
     "execution_count": 10,
     "metadata": {},
     "output_type": "execute_result"
    }
   ],
   "source": [
    "phonebook.keys()"
   ]
  },
  {
   "cell_type": "code",
   "execution_count": 11,
   "id": "34b1971c-c941-4cdb-846a-64e662d215df",
   "metadata": {},
   "outputs": [
    {
     "data": {
      "text/plain": [
       "dict_values([8796543908, 9888765490, 6779765312])"
      ]
     },
     "execution_count": 11,
     "metadata": {},
     "output_type": "execute_result"
    }
   ],
   "source": [
    "phonebook.values()"
   ]
  },
  {
   "cell_type": "code",
   "execution_count": null,
   "id": "357b38fc-c968-401f-a949-89a4af074bdc",
   "metadata": {},
   "outputs": [],
   "source": []
  }
 ],
 "metadata": {
  "kernelspec": {
   "display_name": "Python 3 (ipykernel)",
   "language": "python",
   "name": "python3"
  },
  "language_info": {
   "codemirror_mode": {
    "name": "ipython",
    "version": 3
   },
   "file_extension": ".py",
   "mimetype": "text/x-python",
   "name": "python",
   "nbconvert_exporter": "python",
   "pygments_lexer": "ipython3",
   "version": "3.12.7"
  }
 },
 "nbformat": 4,
 "nbformat_minor": 5
}
