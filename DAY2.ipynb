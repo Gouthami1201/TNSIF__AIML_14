{
 "cells": [
  {
   "cell_type": "code",
   "execution_count": 1,
   "id": "baa36fce-6d2b-4fd2-939c-5f91bcc4eea9",
   "metadata": {},
   "outputs": [
    {
     "name": "stdin",
     "output_type": "stream",
     "text": [
      "Enter a number:  25\n"
     ]
    },
    {
     "name": "stdout",
     "output_type": "stream",
     "text": [
      "Current sum:25\n"
     ]
    },
    {
     "name": "stdin",
     "output_type": "stream",
     "text": [
      "Enter a number:  45\n"
     ]
    },
    {
     "name": "stdout",
     "output_type": "stream",
     "text": [
      "Current sum:70\n"
     ]
    },
    {
     "name": "stdin",
     "output_type": "stream",
     "text": [
      "Enter a number:  555\n"
     ]
    },
    {
     "name": "stdout",
     "output_type": "stream",
     "text": [
      "Current sum:625\n",
      "Sum has exceeded 300\n"
     ]
    }
   ],
   "source": [
    "#accept number from user and print sum which doesnt exceed 300\n",
    "sum = 0\n",
    "while True:\n",
    "    num = int(input(\"Enter a number: \"))\n",
    "    sum += num \n",
    "    print(f\"Current sum:{sum}\")\n",
    "    if sum >= 300:\n",
    "        print(\"Sum has exceeded 300\")\n",
    "        break\n",
    "    "
   ]
  },
  {
   "cell_type": "code",
   "execution_count": 2,
   "id": "9b0cbbdc-6243-433c-a0d0-1741d5dc5d1a",
   "metadata": {},
   "outputs": [
    {
     "name": "stdin",
     "output_type": "stream",
     "text": [
      "Enter the string don\n",
      "Enter the string bunny\n",
      "Enter the string manu\n",
      "Enter the string bon\n",
      "Enter the string Bon\n"
     ]
    },
    {
     "name": "stdout",
     "output_type": "stream",
     "text": [
      "Voyage\n"
     ]
    }
   ],
   "source": [
    "#when user enters Bon,Voyage has to be printed\n",
    "while True:\n",
    "    s = input(\"Enter the string\")\n",
    "    if s == \"Bon\":\n",
    "        print(\"Voyage\")\n",
    "        break"
   ]
  },
  {
   "cell_type": "code",
   "execution_count": 3,
   "id": "e5d645e3-ef4f-44d1-b318-9b1f7f20c941",
   "metadata": {},
   "outputs": [
    {
     "name": "stdin",
     "output_type": "stream",
     "text": [
      "Enter your door number and street:  hgy56\n"
     ]
    },
    {
     "name": "stdout",
     "output_type": "stream",
     "text": [
      "56"
     ]
    }
   ],
   "source": [
    "#when user enters number and name of street,number has to be printed\n",
    "adrs = input(\"Enter your door number and street: \")\n",
    "number = \"\"\n",
    "for ch in adrs:\n",
    "    if ch>='0' and ch<='9':\n",
    "        print(ch,end='')"
   ]
  },
  {
   "cell_type": "code",
   "execution_count": 4,
   "id": "74dee159-3d62-49c0-b842-2191afe536e3",
   "metadata": {},
   "outputs": [
    {
     "name": "stdin",
     "output_type": "stream",
     "text": [
      "Enter your name:  pandu\n"
     ]
    },
    {
     "name": "stdout",
     "output_type": "stream",
     "text": [
      "p\n",
      "n\n",
      "d\n"
     ]
    }
   ],
   "source": [
    "#accept name from user and print consonents\n",
    "n = input(\"Enter your name: \")\n",
    "for i in n:\n",
    "    if i=='a' or i=='e' or i=='i' or i=='o' or i=='u':\n",
    "        continue\n",
    "    else:\n",
    "        print(i)"
   ]
  },
  {
   "cell_type": "code",
   "execution_count": 5,
   "id": "7ea5f258-4099-463e-baed-74289de04c87",
   "metadata": {},
   "outputs": [
    {
     "name": "stdin",
     "output_type": "stream",
     "text": [
      "Enter item 1:  huh\n",
      "Enter item 2:  nij\n",
      "Enter item 3:  lui\n",
      "Enter item 4:  buym\n",
      "Enter item 5:  byuy\n",
      "Enter your name:  fygj\n"
     ]
    },
    {
     "name": "stdout",
     "output_type": "stream",
     "text": [
      "Updated list: ['huh', 'nij', 'fygj', 'buym', 'fygj']\n"
     ]
    }
   ],
   "source": [
    "#in the usser entered 5 lists,3rd and 5th elements have to be replaced by user entered name\n",
    "lst = []\n",
    "for i in range(5):\n",
    "    element = input(f\"Enter item {i+1}: \")\n",
    "    lst.append(element)\n",
    "name = input(\"Enter your name: \")\n",
    "lst[2] = name\n",
    "lst[4] = name\n",
    "print(\"Updated list:\", lst)"
   ]
  },
  {
   "cell_type": "code",
   "execution_count": 6,
   "id": "245c976b-5c9e-4a38-90b8-ab342f127a16",
   "metadata": {},
   "outputs": [
    {
     "data": {
      "text/plain": [
       "[20, 21, 22, 23, 24]"
      ]
     },
     "execution_count": 6,
     "metadata": {},
     "output_type": "execute_result"
    }
   ],
   "source": [
    "li=list(range(20,25))\n",
    "li"
   ]
  },
  {
   "cell_type": "code",
   "execution_count": 7,
   "id": "790e07a9-16ed-41af-91e1-f86c09d1a854",
   "metadata": {},
   "outputs": [
    {
     "data": {
      "text/plain": [
       "[20, 21, 22, 23, 24, 26]"
      ]
     },
     "execution_count": 7,
     "metadata": {},
     "output_type": "execute_result"
    }
   ],
   "source": [
    "li.append(26)\n",
    "li"
   ]
  },
  {
   "cell_type": "code",
   "execution_count": 8,
   "id": "f0604bac-8995-4c57-91f8-cd2ce7415ce8",
   "metadata": {},
   "outputs": [
    {
     "data": {
      "text/plain": [
       "[20, 21, 100, 23, 24, 26]"
      ]
     },
     "execution_count": 8,
     "metadata": {},
     "output_type": "execute_result"
    }
   ],
   "source": [
    "li[2]=100\n",
    "li"
   ]
  },
  {
   "cell_type": "code",
   "execution_count": 9,
   "id": "a9ec17b3-d1e8-4741-9b56-9ec4dbb4ce41",
   "metadata": {},
   "outputs": [
    {
     "data": {
      "text/plain": [
       "23"
      ]
     },
     "execution_count": 9,
     "metadata": {},
     "output_type": "execute_result"
    }
   ],
   "source": [
    "li[3]"
   ]
  },
  {
   "cell_type": "code",
   "execution_count": 10,
   "id": "bb94fc08-de08-4e85-90c0-838c728439f8",
   "metadata": {},
   "outputs": [
    {
     "data": {
      "text/plain": [
       "[20, 0, 21, 100, 23, 24, 26]"
      ]
     },
     "execution_count": 10,
     "metadata": {},
     "output_type": "execute_result"
    }
   ],
   "source": [
    "li.insert(1,0)\n",
    "li"
   ]
  },
  {
   "cell_type": "code",
   "execution_count": 11,
   "id": "70792587-aaa2-4189-b42a-b9af319a4ca8",
   "metadata": {},
   "outputs": [
    {
     "data": {
      "text/plain": [
       "[20, 21, 100, 23, 24, 26]"
      ]
     },
     "execution_count": 11,
     "metadata": {},
     "output_type": "execute_result"
    }
   ],
   "source": [
    "li\n",
    "del li[1]\n",
    "li"
   ]
  },
  {
   "cell_type": "code",
   "execution_count": 12,
   "id": "41743d39-cc95-4cad-8223-cfab818112c3",
   "metadata": {},
   "outputs": [
    {
     "data": {
      "text/plain": [
       "[20, 21, 100, 23, 24]"
      ]
     },
     "execution_count": 12,
     "metadata": {},
     "output_type": "execute_result"
    }
   ],
   "source": [
    "li.pop()\n",
    "li\n",
    "#integers can only be deleted..without entering anything in () LAST element is deleted"
   ]
  },
  {
   "cell_type": "code",
   "execution_count": 13,
   "id": "21e63a28-1f7b-4ae9-a51e-8dabeefb2b76",
   "metadata": {},
   "outputs": [
    {
     "data": {
      "text/plain": [
       "['red', 'blue']"
      ]
     },
     "execution_count": 13,
     "metadata": {},
     "output_type": "execute_result"
    }
   ],
   "source": [
    "li1=['red','blue']\n",
    "li1"
   ]
  },
  {
   "cell_type": "code",
   "execution_count": 14,
   "id": "b8106233-04b3-4879-8637-fd697cc7f85d",
   "metadata": {},
   "outputs": [
    {
     "data": {
      "text/plain": [
       "['blue']"
      ]
     },
     "execution_count": 14,
     "metadata": {},
     "output_type": "execute_result"
    }
   ],
   "source": [
    "li1.remove('red')\n",
    "li1\n",
    "#remove string from list"
   ]
  },
  {
   "cell_type": "code",
   "execution_count": null,
   "id": "755727eb-7f97-4c5d-bede-14f854b7cab4",
   "metadata": {},
   "outputs": [],
   "source": []
  }
 ],
 "metadata": {
  "kernelspec": {
   "display_name": "Python 3 (ipykernel)",
   "language": "python",
   "name": "python3"
  },
  "language_info": {
   "codemirror_mode": {
    "name": "ipython",
    "version": 3
   },
   "file_extension": ".py",
   "mimetype": "text/x-python",
   "name": "python",
   "nbconvert_exporter": "python",
   "pygments_lexer": "ipython3",
   "version": "3.12.7"
  }
 },
 "nbformat": 4,
 "nbformat_minor": 5
}
